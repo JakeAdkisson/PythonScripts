{
 "cells": [
  {
   "cell_type": "code",
   "execution_count": 4,
   "metadata": {},
   "outputs": [
    {
     "ename": "SyntaxError",
     "evalue": "invalid syntax (<ipython-input-4-0a6e9fe445ea>, line 1)",
     "output_type": "error",
     "traceback": [
      "\u001b[1;36m  File \u001b[1;32m\"<ipython-input-4-0a6e9fe445ea>\"\u001b[1;36m, line \u001b[1;32m1\u001b[0m\n\u001b[1;33m    def multiply(A[][], B[][], C[][]):\u001b[0m\n\u001b[1;37m                  ^\u001b[0m\n\u001b[1;31mSyntaxError\u001b[0m\u001b[1;31m:\u001b[0m invalid syntax\n"
     ]
    }
   ],
   "source": [
    "def multiply(int A[][], int B[][], int C[][]):\n",
    "{ \n",
    "    for (int i = 0; i < N; i++) \n",
    "    { \n",
    "        for (int j = 0; j < N; j++) \n",
    "        { \n",
    "            C[i][j] = 0; \n",
    "            for (int k = 0; k < N; k++) \n",
    "            { \n",
    "                C[i][j] += A[i][k]*B[k][j]; \n",
    "            } \n",
    "        } \n",
    "    } \n",
    "} \n"
   ]
  },
  {
   "cell_type": "code",
   "execution_count": 41,
   "metadata": {},
   "outputs": [],
   "source": [
    "def multiply(A, B, C, N):\n",
    "    for i in range(N):\n",
    "        for j in range(N):\n",
    "            C[i][j] = 0; \n",
    "            for k in range(N):\n",
    "                C[i][j] += A[i][k]*B[k][j];\n",
    "    for i in range(N):\n",
    "        for j in range(N):\n",
    "            print(\"C[\"+str(i)+\"][\"+str(j)+\"] = \"+str(C[i][j]))"
   ]
  },
  {
   "cell_type": "code",
   "execution_count": 42,
   "metadata": {},
   "outputs": [
    {
     "name": "stdout",
     "output_type": "stream",
     "text": [
      "C[0][0] = 50\n",
      "C[0][1] = 30\n",
      "C[0][2] = 40\n",
      "C[0][3] = 20\n",
      "C[1][0] = 50\n",
      "C[1][1] = 30\n",
      "C[1][2] = 40\n",
      "C[1][3] = 20\n",
      "C[2][0] = 50\n",
      "C[2][1] = 30\n",
      "C[2][2] = 40\n",
      "C[2][3] = 20\n",
      "C[3][0] = 50\n",
      "C[3][1] = 30\n",
      "C[3][2] = 40\n",
      "C[3][3] = 20\n"
     ]
    }
   ],
   "source": [
    "A = [[0]*4]*4\n",
    "B = [[0]*4]*4\n",
    "C = [[0]*4]*4\n",
    "A[0][0] = 1\n",
    "A[0][1] = 2\n",
    "A[0][2] = 2\n",
    "A[0][3] = 1\n",
    "A[1][0] = 5\n",
    "A[1][1] = 0\n",
    "A[1][2] = 3\n",
    "A[1][3] = 2\n",
    "A[2][0] = 3\n",
    "A[2][1] = 4\n",
    "A[2][2] = 5\n",
    "A[2][3] = 4\n",
    "A[3][0] = 1\n",
    "A[3][1] = 3\n",
    "A[3][2] = 4\n",
    "A[3][3] = 2\n",
    "B[0][0] = 2\n",
    "B[0][1] = 4\n",
    "B[0][2] = 2\n",
    "B[0][3] = 1\n",
    "B[1][0] = 1\n",
    "B[1][1] = 1\n",
    "B[1][2] = 4\n",
    "B[1][3] = 3\n",
    "B[2][0] = 4\n",
    "B[2][1] = 8\n",
    "B[2][2] = 2\n",
    "B[2][3] = 3\n",
    "B[3][0] = 5\n",
    "B[3][1] = 3\n",
    "B[3][2] = 4\n",
    "B[3][3] = 2\n",
    "multiply(A,B,C,4)"
   ]
  },
  {
   "cell_type": "code",
   "execution_count": null,
   "metadata": {},
   "outputs": [],
   "source": []
  },
  {
   "cell_type": "code",
   "execution_count": null,
   "metadata": {},
   "outputs": [],
   "source": []
  }
 ],
 "metadata": {
  "kernelspec": {
   "display_name": "Python 3",
   "language": "python",
   "name": "python3"
  },
  "language_info": {
   "codemirror_mode": {
    "name": "ipython",
    "version": 3
   },
   "file_extension": ".py",
   "mimetype": "text/x-python",
   "name": "python",
   "nbconvert_exporter": "python",
   "pygments_lexer": "ipython3",
   "version": "3.6.5"
  }
 },
 "nbformat": 4,
 "nbformat_minor": 2
}
