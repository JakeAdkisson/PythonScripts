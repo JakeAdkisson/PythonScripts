{
 "cells": [
  {
   "cell_type": "code",
   "execution_count": 1,
   "metadata": {},
   "outputs": [],
   "source": [
    "from pytrends.request import TrendReq"
   ]
  },
  {
   "cell_type": "code",
   "execution_count": 4,
   "metadata": {},
   "outputs": [
    {
     "name": "stdout",
     "output_type": "stream",
     "text": [
      "                   0\n",
      "0  Manchester United\n",
      "1        Eid Mubarak\n",
      "2    Chris Hemsworth\n",
      "3         Mike Perry\n",
      "4            Arsenal\n"
     ]
    }
   ],
   "source": [
    "from pytrends.request import TrendReq\n",
    "\n",
    "# Login to Google. Only need to run this once, the rest of requests will use the same session.\n",
    "pytrend = TrendReq()\n",
    "\n",
    "# Create payload and capture API tokens. Only needed for interest_over_time(), interest_by_region() & related_queries()\n",
    "pytrend.build_payload(kw_list=['pizza', 'bagel'])\n",
    "\n",
    "# Interest Over Time\n",
    "interest_over_time_df = pytrend.interest_over_time()\n",
    "#print(interest_over_time_df.head())\n",
    "\n",
    "# Interest by Region\n",
    "interest_by_region_df = pytrend.interest_by_region()\n",
    "#print(interest_by_region_df.head())\n",
    "\n",
    "# Related Queries, returns a dictionary of dataframes\n",
    "related_queries_dict = pytrend.related_queries()\n",
    "#print(related_queries_dict)\n",
    "\n",
    "# Get Google Hot Trends data\n",
    "trending_searches_df = pytrend.trending_searches()\n",
    "print(trending_searches_df.head())\n",
    "\n",
    "# Get Google Hot Trends data\n",
    "today_searches_df = pytrend.today_searches()\n",
    "#print(today_searches_df.head())\n",
    "\n",
    "# Get Google Top Charts\n",
    "#top_charts_df = pytrend.top_charts(2018, hl='en-US', tz=300, geo='GLOBAL') # Returned \n",
    "#print(top_charts_df.head())\n",
    "\n",
    "# Get Google Keyword Suggestions\n",
    "suggestions_dict = pytrend.suggestions(keyword='pizza')\n",
    "#print(suggestions_dict)"
   ]
  },
  {
   "cell_type": "code",
   "execution_count": null,
   "metadata": {},
   "outputs": [],
   "source": []
  }
 ],
 "metadata": {
  "kernelspec": {
   "display_name": "Python 3",
   "language": "python",
   "name": "python3"
  },
  "language_info": {
   "codemirror_mode": {
    "name": "ipython",
    "version": 3
   },
   "file_extension": ".py",
   "mimetype": "text/x-python",
   "name": "python",
   "nbconvert_exporter": "python",
   "pygments_lexer": "ipython3",
   "version": "3.6.5"
  }
 },
 "nbformat": 4,
 "nbformat_minor": 2
}
