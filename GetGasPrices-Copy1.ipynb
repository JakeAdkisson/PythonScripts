{
 "cells": [
  {
   "cell_type": "code",
   "execution_count": 100,
   "metadata": {},
   "outputs": [],
   "source": [
    "import urllib.request\n",
    "import datetime as datetime"
   ]
  },
  {
   "cell_type": "code",
   "execution_count": 119,
   "metadata": {},
   "outputs": [],
   "source": [
    "    site = 'https://www.google.com/search?rlz=1C1CHBF_enUS775US775&ei=FLh5W_vbJqHIjwS-yqaYAg&q=gas+station+near+me&oq=gas+startion&gs_l=psy-ab.3.0.0i10k1l10.18600.20679.0.22907.12.12.0.0.0.0.234.1230.0j8j1.9.0....0...1.1.64.psy-ab..3.9.1215...0j35i39k1j0i67k1j0i131k1j0i20i263i264k1j0i20i264k1j0i20i263k1.0.6bVbXa0Pozs'\n",
    "    hdr = {'User-Agent': 'Mozilla/5.0 (X11; Linux x86_64) AppleWebKit/537.11 (KHTML, like Gecko) Chrome/23.0.1271.64 Safari/537.11',\n",
    "           'Accept': 'text/html,application/xhtml+xml,application/xml;q=0.9,*/*;q=0.8',\n",
    "           'Accept-Charset': 'ISO-8859-1,utf-8;q=0.7,*;q=0.3',\n",
    "           'Accept-Encoding': 'none',\n",
    "           'Accept-Language': 'en-US,en;q=0.8',\n",
    "           'Connection': 'keep-alive'}\n",
    "    req = urllib.request.Request(site,headers=hdr)\n",
    "    response = urllib.request.urlopen(req)\n",
    "    the_page = response.read()\n",
    "    the_page = the_page.decode(\"utf8\")\n",
    "    #print(the_page)\n",
    "    clean_html = seperateHTML(str(the_page))\n",
    "    #print(clean_html)\n",
    "    prices = findPrices(clean_html)\n",
    "    #print(prices)\n",
    "    add_to_data(prices)\n",
    "#path = \"C:\\\\Users\\\\rando\\\\Desktop\\\\tmp_html.html\"\n",
    "#with open(path, 'w') as file:\n",
    "#    file.write(the_page)"
   ]
  },
  {
   "cell_type": "code",
   "execution_count": 118,
   "metadata": {},
   "outputs": [],
   "source": [
    "def add_to_data(touple_arr):\n",
    "    path = \"C:\\\\Users\\\\rando\\\\Desktop\\\\gas_prices.txt\"\n",
    "    with open(path, 'a') as file:\n",
    "        for el in touple_arr:\n",
    "            file.write(str(datetime.date.today())+','+el[0]+','+el[1]+'\\n')"
   ]
  },
  {
   "cell_type": "code",
   "execution_count": 91,
   "metadata": {},
   "outputs": [],
   "source": [
    "def findPrices(html):\n",
    "    #finds the three closest prices\n",
    "    tmp = []\n",
    "    add_el = 0\n",
    "    for el in html:\n",
    "        if 'span' in el :\n",
    "            if 'Gas Station' in el:\n",
    "                add_el = 13\n",
    "            #print(el)\n",
    "        if add_el > 0:\n",
    "            tmp.append(el)\n",
    "            add_el -=1\n",
    "    shortened_arr = []\n",
    "    for el in tmp:\n",
    "        if 'CMOLIb' in el or ('/span' in el and el.strip() != '</span>'):\n",
    "            shortened_arr.append(el.strip())\n",
    "    clean_arr = []\n",
    "    for el in shortened_arr:\n",
    "        if 'CMOLIb' in el:\n",
    "            clean_arr.append(el[el.find('aria-label=')+13:-2])\n",
    "            #print(el)\n",
    "        else:\n",
    "            clean_arr.append(el.replace('</span>',''))\n",
    "    touple_arr = []\n",
    "    for el in clean_arr:\n",
    "        if clean_arr.index(el) %2 == 0:\n",
    "            touple_arr.append((el,clean_arr[clean_arr.index(el)+1]))\n",
    "    return touple_arr"
   ]
  },
  {
   "cell_type": "code",
   "execution_count": 19,
   "metadata": {},
   "outputs": [],
   "source": [
    "def seperateHTML(html_str):\n",
    "    tmp_arr = []\n",
    "    tmp_str = \"\"\n",
    "    for letter in html_str:\n",
    "        letter = str(letter)\n",
    "        if letter == \">\":\n",
    "            tmp_str+=letter\n",
    "            tmp_arr.append(tmp_str)\n",
    "            tmp_str = \"\"\n",
    "        else:\n",
    "            tmp_str+=letter\n",
    "    return tmp_arr"
   ]
  },
  {
   "cell_type": "code",
   "execution_count": 62,
   "metadata": {},
   "outputs": [
    {
     "name": "stdout",
     "output_type": "stream",
     "text": [
      "7\n"
     ]
    }
   ],
   "source": [
    "print(len('</span>'))"
   ]
  },
  {
   "cell_type": "code",
   "execution_count": null,
   "metadata": {},
   "outputs": [],
   "source": []
  }
 ],
 "metadata": {
  "kernelspec": {
   "display_name": "Python 3",
   "language": "python",
   "name": "python3"
  },
  "language_info": {
   "codemirror_mode": {
    "name": "ipython",
    "version": 3
   },
   "file_extension": ".py",
   "mimetype": "text/x-python",
   "name": "python",
   "nbconvert_exporter": "python",
   "pygments_lexer": "ipython3",
   "version": "3.6.5"
  }
 },
 "nbformat": 4,
 "nbformat_minor": 2
}
