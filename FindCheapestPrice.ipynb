{
 "cells": [
  {
   "cell_type": "code",
   "execution_count": 3,
   "metadata": {},
   "outputs": [],
   "source": [
    "import urllib\n",
    "import json as JSON"
   ]
  },
  {
   "cell_type": "code",
   "execution_count": 1,
   "metadata": {},
   "outputs": [
    {
     "name": "stdout",
     "output_type": "stream",
     "text": [
      "Hello World\n"
     ]
    }
   ],
   "source": [
    "print(\"Hello World\")"
   ]
  },
  {
   "cell_type": "code",
   "execution_count": 37,
   "metadata": {},
   "outputs": [],
   "source": [
    "def searchTarget(request):\n",
    "    #url = urllib.request.urlopen(\"https://www.target.com/s?searchTerm=\"+request)\n",
    "    #url_bytes = url.read()\n",
    "    #messy_html = url_bytes.decode(\"utf8\")\n",
    "    req = urllib.request.Request('https://www.target.com/s?searchTerm='+request)\n",
    "    response = urllib.request.urlopen(req)\n",
    "    the_page = response.read()\n",
    "    the_page = the_page.decode(\"utf8\")\n",
    "    #print(the_page)\n",
    "    clean_html = seperateHTML(the_page)\n",
    "    #print(clean_html)\n",
    "    path = \"C:\\\\Users\\\\rando\\\\Desktop\\\\tmp_html.html\"\n",
    "    with open(path, 'w') as file:\n",
    "        file.write(the_page)\n",
    "    #JSON.parse(clean_html)\n",
    "    #for line in clean_html:\n",
    "     #   line = line.lower()\n",
    "        #print(line)\n",
    "        #if \"href\" in line and \"product\" in line:\n",
    "            #print(line)"
   ]
  },
  {
   "cell_type": "code",
   "execution_count": 38,
   "metadata": {},
   "outputs": [],
   "source": [
    "searchTarget(\"sunglases\")"
   ]
  },
  {
   "cell_type": "code",
   "execution_count": 29,
   "metadata": {},
   "outputs": [],
   "source": [
    "def seperateHTML(html_str):\n",
    "    tmp_arr = []\n",
    "    tmp_str = \"\"\n",
    "    for letter in html_str:\n",
    "        letter = str(letter)\n",
    "        if letter == \">\":\n",
    "            tmp_str+=letter\n",
    "            tmp_arr.append(tmp_str)\n",
    "            tmp_str = \"\"\n",
    "        else:\n",
    "            tmp_str+=letter\n",
    "    return tmp_arr"
   ]
  },
  {
   "cell_type": "code",
   "execution_count": 52,
   "metadata": {},
   "outputs": [
    {
     "name": "stdout",
     "output_type": "stream",
     "text": [
      "['asdf>', 'fdas>']\n"
     ]
    }
   ],
   "source": [
    "print(seperateHTML(\"asdf>fdas>\"))"
   ]
  },
  {
   "cell_type": "code",
   "execution_count": 18,
   "metadata": {},
   "outputs": [],
   "source": [
    "fp = urllib.request.urlopen(\"http://www.python.org\")\n",
    "mybytes = fp.read()\n",
    "\n",
    "mystr = mybytes.decode(\"utf8\")\n",
    "fp.close()\n",
    "\n"
   ]
  },
  {
   "cell_type": "code",
   "execution_count": 21,
   "metadata": {},
   "outputs": [
    {
     "name": "stdout",
     "output_type": "stream",
     "text": [
      "HI\n",
      "BYE\n"
     ]
    }
   ],
   "source": [
    "print(\"HI\\nBYE\")"
   ]
  }
 ],
 "metadata": {
  "kernelspec": {
   "display_name": "Python 3",
   "language": "python",
   "name": "python3"
  },
  "language_info": {
   "codemirror_mode": {
    "name": "ipython",
    "version": 3
   },
   "file_extension": ".py",
   "mimetype": "text/x-python",
   "name": "python",
   "nbconvert_exporter": "python",
   "pygments_lexer": "ipython3",
   "version": "3.6.5"
  }
 },
 "nbformat": 4,
 "nbformat_minor": 2
}
