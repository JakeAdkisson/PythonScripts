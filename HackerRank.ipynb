{
 "cells": [
  {
   "cell_type": "code",
   "execution_count": 1,
   "metadata": {},
   "outputs": [],
   "source": [
    "#Piling Up!"
   ]
  },
  {
   "cell_type": "code",
   "execution_count": 17,
   "metadata": {},
   "outputs": [],
   "source": [
    "sample_input = \"\"\"2\n",
    "6\n",
    "4 3 2 1 3 4\n",
    "3\n",
    "1 3 2\n",
    "\"\"\""
   ]
  },
  {
   "cell_type": "code",
   "execution_count": 49,
   "metadata": {},
   "outputs": [],
   "source": [
    "def stackable(s_input):\n",
    "    count = 0;\n",
    "    index = 0\n",
    "    runs = 0;\n",
    "    line_arr = s_input.splitlines()\n",
    "    runs = int(line_arr[index])\n",
    "    index+=1\n",
    "    #print(line_arr[2][0])\n",
    "    while count < runs:\n",
    "        count+=1\n",
    "        #print(index)\n",
    "        num_cubes = int(line_arr[index])\n",
    "        index+=1\n",
    "        cube_arr = [0] * num_cubes;\n",
    "        cube_arr_count = 0\n",
    "        for char in line_arr[index]:\n",
    "            if(char is not ' '):\n",
    "                cube_arr[cube_arr_count] = int(char)\n",
    "                cube_arr_count+=1\n",
    "        last_cube = 0\n",
    "        if(cube_arr[0] >= cube_arr[num_cubes-1]):\n",
    "            last_cube = cube_arr[0]\n",
    "            cube_arr.pop(0)\n",
    "        elif(cube_arr[num_cubes-1] > cube_arr[0]):\n",
    "            last_cube = cube_arr[num_cubes-1]\n",
    "            cube_arr.pop(num_cubes-1)\n",
    "        num_cubes-=1\n",
    "        while(num_cubes > 0):\n",
    "            if((cube_arr[0] >= cube_arr[num_cubes-1]) and (last_cube >= cube_arr[0])):\n",
    "                last_cube = cube_arr[0]\n",
    "                cube_arr.pop(0)\n",
    "                num_cubes-=1\n",
    "            elif((cube_arr[num_cubes-1] > cube_arr[0]) and (last_cube >= cube_arr[num_cubes-1])):\n",
    "                last_cube = cube_arr[num_cubes-1]\n",
    "                cube_arr.pop(num_cubes-1)\n",
    "                num_cubes-=1\n",
    "            else:\n",
    "                print(\"No\")\n",
    "                num_cubes = -1\n",
    "        if(num_cubes == 0):\n",
    "            print(\"Yes\")\n",
    "        index+=1\n",
    "        #print(cube_arr)"
   ]
  },
  {
   "cell_type": "code",
   "execution_count": 50,
   "metadata": {},
   "outputs": [
    {
     "name": "stdout",
     "output_type": "stream",
     "text": [
      "Yes\n",
      "No\n"
     ]
    }
   ],
   "source": [
    "stackable(sample_input)\n",
    "#complete, expected output"
   ]
  },
  {
   "cell_type": "code",
   "execution_count": null,
   "metadata": {},
   "outputs": [],
   "source": [
    "s_input = \"aabbbccde\"\n",
    "alphabet = {\n",
    "    'a':0,\n",
    "    'b':0,\n",
    "    'c':0,\n",
    "    'd':0,\n",
    "    'e':0,\n",
    "    'f':0,\n",
    "    'g':0,\n",
    "    'h':0,\n",
    "    'i':0,\n",
    "    'j':0,\n",
    "    'k':0,\n",
    "    'l':0,\n",
    "    'm':0,\n",
    "    'n':0,\n",
    "    'o':0,\n",
    "    'p':0,\n",
    "    'q':0,\n",
    "    'r':0,\n",
    "    's':0,\n",
    "    't':0,\n",
    "    'u':0,\n",
    "    'v':0,\n",
    "    'w':0,\n",
    "    'x':0,\n",
    "    'y':0,\n",
    "    'z':0\n",
    "}\n",
    "for char in s_input:\n",
    "    alphabet[char] = alphabet[char]+1\n",
    "for x in alphabet:\n",
    "    print(s"
   ]
  }
 ],
 "metadata": {
  "kernelspec": {
   "display_name": "Python 3",
   "language": "python",
   "name": "python3"
  },
  "language_info": {
   "codemirror_mode": {
    "name": "ipython",
    "version": 3
   },
   "file_extension": ".py",
   "mimetype": "text/x-python",
   "name": "python",
   "nbconvert_exporter": "python",
   "pygments_lexer": "ipython3",
   "version": "3.6.5"
  }
 },
 "nbformat": 4,
 "nbformat_minor": 2
}
